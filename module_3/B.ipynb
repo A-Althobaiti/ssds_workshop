{
 "cells": [
  {
   "cell_type": "code",
   "execution_count": 1,
   "id": "961d9528-69c0-4cca-bf63-2c09cb99b560",
   "metadata": {},
   "outputs": [],
   "source": [
    "%matplotlib inline\n",
    "\n",
    "from sklearn.datasets import make_classification\n",
    "from sklearn.svm import SVC\n",
    "from sklearn.model_selection import train_test_split\n",
    "\n",
    "import pandas as pd\n",
    "import numpy as np\n",
    "import matplotlib.pyplot as plt\n",
    "import seaborn as sns\n",
    "\n",
    "sns.set_style(\"darkgrid\")"
   ]
  },
  {
   "cell_type": "code",
   "execution_count": 2,
   "id": "a4bed945-07d5-4dd3-886f-97cc7a3bcf6f",
   "metadata": {},
   "outputs": [],
   "source": [
    "X, y = make_classification(weights=[0.73], random_state=2022)\n",
    "X_train, X_test, y_train, y_test = train_test_split(X, y, stratify=y, random_state=2022)"
   ]
  },
  {
   "cell_type": "markdown",
   "id": "76f60292-42b2-4d52-91d2-b9a6f28c31da",
   "metadata": {},
   "source": [
    "# Exercise 1\n",
    "\n",
    "### fit a support vector machine on the train data and measure its performance on the training and testing data"
   ]
  },
  {
   "cell_type": "code",
   "execution_count": 3,
   "id": "6a0223b0-f1ec-4bb6-af47-ce412f858869",
   "metadata": {},
   "outputs": [
    {
     "name": "stdout",
     "output_type": "stream",
     "text": [
      "training performance: 1.0\n",
      "testing performance: 0.88\n"
     ]
    }
   ],
   "source": [
    "model = SVC(random_state=2022).fit(X_train, y_train)\n",
    "print(\n",
    "    f\"training performance: {model.score(X_train, y_train)}\",\n",
    "    f\"testing performance: {model.score(X_test, y_test)}\",\n",
    "    sep=\"\\n\"\n",
    ")"
   ]
  },
  {
   "cell_type": "markdown",
   "id": "716d9683-d651-42ff-a0ed-53365f91da4c",
   "metadata": {},
   "source": [
    "# Exercise 2\n",
    "\n",
    "### measure the errors we have made per class"
   ]
  },
  {
   "cell_type": "code",
   "execution_count": 4,
   "id": "1b7dfc09-87ff-4a25-8f6c-e1ff5f09dc81",
   "metadata": {},
   "outputs": [
    {
     "data": {
      "text/html": [
       "<div>\n",
       "<style scoped>\n",
       "    .dataframe tbody tr th:only-of-type {\n",
       "        vertical-align: middle;\n",
       "    }\n",
       "\n",
       "    .dataframe tbody tr th {\n",
       "        vertical-align: top;\n",
       "    }\n",
       "\n",
       "    .dataframe thead th {\n",
       "        text-align: right;\n",
       "    }\n",
       "</style>\n",
       "<table border=\"1\" class=\"dataframe\">\n",
       "  <thead>\n",
       "    <tr style=\"text-align: right;\">\n",
       "      <th></th>\n",
       "      <th>is_correct</th>\n",
       "    </tr>\n",
       "    <tr>\n",
       "      <th>true_label</th>\n",
       "      <th></th>\n",
       "    </tr>\n",
       "  </thead>\n",
       "  <tbody>\n",
       "    <tr>\n",
       "      <th>0</th>\n",
       "      <td>1.000000</td>\n",
       "    </tr>\n",
       "    <tr>\n",
       "      <th>1</th>\n",
       "      <td>0.571429</td>\n",
       "    </tr>\n",
       "  </tbody>\n",
       "</table>\n",
       "</div>"
      ],
      "text/plain": [
       "            is_correct\n",
       "true_label            \n",
       "0             1.000000\n",
       "1             0.571429"
      ]
     },
     "execution_count": 4,
     "metadata": {},
     "output_type": "execute_result"
    }
   ],
   "source": [
    "(pd.DataFrame(\n",
    "    {\n",
    "        \"true_label\": y_test,\n",
    "        \"is_correct\": y_test == model.predict(X_test)\n",
    "    })\n",
    " .groupby(\"true_label\")\n",
    " .mean()\n",
    ")"
   ]
  },
  {
   "cell_type": "markdown",
   "id": "94e7d757-3dbf-4fb7-af66-0e6e83b78810",
   "metadata": {},
   "source": [
    "# Exercise 3\n",
    "\n",
    "### plot a histogram of the y labels of the training data"
   ]
  },
  {
   "cell_type": "code",
   "execution_count": 5,
   "id": "047a1d44-dc1f-40f2-8488-6fb6b8cd473f",
   "metadata": {},
   "outputs": [
    {
     "data": {
      "text/plain": [
       "<AxesSubplot:ylabel='Probability'>"
      ]
     },
     "execution_count": 5,
     "metadata": {},
     "output_type": "execute_result"
    },
    {
     "data": {
      "image/png": "[encoded data removed]",
      "text/plain": [
       "<Figure size 432x288 with 1 Axes>"
      ]
     },
     "metadata": {},
     "output_type": "display_data"
    }
   ],
   "source": [
    "sns.histplot(y_train, stat=\"probability\")"
   ]
  },
  {
   "cell_type": "markdown",
   "id": "1498c877-8bd2-455d-bcae-787b0ba64abf",
   "metadata": {},
   "source": [
    "# Exercise 3\n",
    "\n",
    "### fit the model again with weights"
   ]
  },
  {
   "cell_type": "code",
   "execution_count": 6,
   "id": "ee6f0ab8-13ec-4c40-9b49-ee27f52ed6a5",
   "metadata": {},
   "outputs": [
    {
     "name": "stdout",
     "output_type": "stream",
     "text": [
      "training performance: 0.9733333333333334\n",
      "testing performance: 0.96\n"
     ]
    }
   ],
   "source": [
    "model_balanced = (\n",
    "    SVC(\n",
    "        class_weight=\"balanced\", \n",
    "        random_state=2022,\n",
    "    )\n",
    "    .fit(X_train, y_train)\n",
    ")\n",
    "print(\n",
    "    f\"training performance: {model_balanced.score(X_train, y_train)}\",\n",
    "    f\"testing performance: {model_balanced.score(X_test, y_test)}\",\n",
    "    sep=\"\\n\"\n",
    ")"
   ]
  },
  {
   "cell_type": "code",
   "execution_count": 7,
   "id": "497601d4-bb07-4db6-9919-f7b520cfebe7",
   "metadata": {},
   "outputs": [
    {
     "data": {
      "text/html": [
       "<div>\n",
       "<style scoped>\n",
       "    .dataframe tbody tr th:only-of-type {\n",
       "        vertical-align: middle;\n",
       "    }\n",
       "\n",
       "    .dataframe tbody tr th {\n",
       "        vertical-align: top;\n",
       "    }\n",
       "\n",
       "    .dataframe thead th {\n",
       "        text-align: right;\n",
       "    }\n",
       "</style>\n",
       "<table border=\"1\" class=\"dataframe\">\n",
       "  <thead>\n",
       "    <tr style=\"text-align: right;\">\n",
       "      <th></th>\n",
       "      <th>is_correct</th>\n",
       "    </tr>\n",
       "    <tr>\n",
       "      <th>true_label</th>\n",
       "      <th></th>\n",
       "    </tr>\n",
       "  </thead>\n",
       "  <tbody>\n",
       "    <tr>\n",
       "      <th>0</th>\n",
       "      <td>0.944444</td>\n",
       "    </tr>\n",
       "    <tr>\n",
       "      <th>1</th>\n",
       "      <td>1.000000</td>\n",
       "    </tr>\n",
       "  </tbody>\n",
       "</table>\n",
       "</div>"
      ],
      "text/plain": [
       "            is_correct\n",
       "true_label            \n",
       "0             0.944444\n",
       "1             1.000000"
      ]
     },
     "execution_count": 7,
     "metadata": {},
     "output_type": "execute_result"
    }
   ],
   "source": [
    "(pd.DataFrame(\n",
    "    {\n",
    "        \"true_label\": y_test,\n",
    "        \"is_correct\": y_test == model_balanced.predict(X_test)\n",
    "    })\n",
    " .groupby(\"true_label\")\n",
    " .mean()\n",
    ")"
   ]
  },
  {
   "cell_type": "markdown",
   "id": "77ec0afe-ed94-4e2c-b608-ef25980bd072",
   "metadata": {},
   "source": [
    "# Extra exercise\n",
    "\n",
    "### Try this method (balanced classes) with other algorithms like decision trees, random forests, logistic regression. Would it work?"
   ]
  },
  {
   "cell_type": "code",
   "execution_count": null,
   "id": "822baf62-6051-4a24-95a3-7925fcbba866",
   "metadata": {},
   "outputs": [],
   "source": []
  }
 ],
 "metadata": {
  "kernelspec": {
   "display_name": "MoF",
   "language": "python",
   "name": "mof"
  },
  "language_info": {
   "codemirror_mode": {
    "name": "ipython",
    "version": 3
   },
   "file_extension": ".py",
   "mimetype": "text/x-python",
   "name": "python",
   "nbconvert_exporter": "python",
   "pygments_lexer": "ipython3",
   "version": "3.7.3"
  }
 },
 "nbformat": 4,
 "nbformat_minor": 5
}
