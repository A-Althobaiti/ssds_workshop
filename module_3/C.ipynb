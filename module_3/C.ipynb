{
 "cells": [
  {
   "cell_type": "markdown",
   "id": "c68c2e82-2c33-4e39-a999-e5289e9fec88",
   "metadata": {},
   "source": [
    "# Contemporary Models in Natural Language Processing\n",
    "\n",
    "\n",
    "#### The abstract form of data is in mathematical representation. With these representation, we can perform complicated mathematical operations.   \n",
    "\n",
    "<img src=\"src/two_dim_plane_points.png\" width=\"350\" style=\"margin-left:auto; margin-right:auto\"/>\n",
    "\n",
    "\n",
    "#### we often use vector formulations to make abstract representations\n",
    "\n",
    "<img src=\"src/two_dim_plane_points_vec.png\" width=\"350\" style=\"margin-left:auto; margin-right:auto\"/>\n",
    "\n",
    "\n",
    "#### there is no ideal (correct) method of generating vectors that capture the complexities of natural language. Therefore, researchers invented a wide collection of algorithms to generate vectors that capturing the semantics of the language. Below are two different algorithms used widely in NLP applications today.\n",
    "\n",
    "<img src=\"src/skip_gram_arch.png\" width=\"350\" style=\"margin-left:auto; margin-right:auto\"/>\n",
    "\n",
    "\n",
    "#### another algorithm is\n",
    "\n",
    "<img src=\"src/cbow.png\" width=\"350\" style=\"margin-left:auto; margin-right:auto\"/>\n",
    "\n",
    "\n",
    "#### these algorithms seem intuitive and reflect human-like tasks that are used to measure information retention\n",
    "\n",
    "<img src=\"src/embedding_generation.png\" width=\"350\" style=\"margin-left:auto; margin-right:auto\"/>\n",
    "\n",
    "#### Even though these algorithms are far from ideal (correct), they are the best algorithms we have so far. In fact, they are the essence of many large language models. Nevertheless, we need to be aware that these algorithms are based on random processes and may result in different representations every time we run them."
   ]
  },
  {
   "cell_type": "code",
   "execution_count": 1,
   "id": "b7605d46-a7c0-4cd7-8d9b-c0ebd995a12c",
   "metadata": {},
   "outputs": [],
   "source": [
    "%matplotlib inline\n",
    "\n",
    "import numpy as np\n",
    "import matplotlib.pyplot as plt\n",
    "import seaborn as sns\n",
    "import gensim.downloader as api\n",
    "\n",
    "sns.set_style(\"darkgrid\")\n",
    "\n",
    "model = api.load(\"glove-wiki-gigaword-50\")"
   ]
  },
  {
   "cell_type": "markdown",
   "id": "d42786fd-44ad-41e2-87f2-0da1e19c4105",
   "metadata": {},
   "source": [
    "# Exercise 1\n",
    "\n",
    "### get the most similar words to 'excellent'"
   ]
  },
  {
   "cell_type": "code",
   "execution_count": 2,
   "id": "a34dc414-964c-4109-a990-5377b2d7193c",
   "metadata": {},
   "outputs": [
    {
     "data": {
      "text/plain": [
       "[('quality', 0.8557634353637695),\n",
       " ('good', 0.8061553835868835),\n",
       " ('skill', 0.7904783487319946),\n",
       " ('skills', 0.7725492715835571),\n",
       " ('superb', 0.7707151770591736),\n",
       " ('best', 0.7699040174484253),\n",
       " ('performance', 0.7679187059402466),\n",
       " ('suited', 0.759506106376648),\n",
       " ('terrific', 0.7582435011863708),\n",
       " ('useful', 0.7580134272575378)]"
      ]
     },
     "execution_count": 2,
     "metadata": {},
     "output_type": "execute_result"
    }
   ],
   "source": [
    "model.most_similar(\"excellent\")"
   ]
  },
  {
   "cell_type": "markdown",
   "id": "9d85d8fa-dc23-49a5-8f68-4d649d822c0d",
   "metadata": {},
   "source": [
    "# Exercise 2\n",
    "\n",
    "### compute the similarity between \n",
    "#### 1. 'excellent' and 'car'\n",
    "#### 2. 'excellent' and 'horrible'\n",
    "#### 3. 'excellent' and 'perfect'"
   ]
  },
  {
   "cell_type": "code",
   "execution_count": 3,
   "id": "bb7c4eba-7528-4c4b-9278-eb700c6d3646",
   "metadata": {},
   "outputs": [
    {
     "data": {
      "text/plain": [
       "0.33292466"
      ]
     },
     "execution_count": 3,
     "metadata": {},
     "output_type": "execute_result"
    }
   ],
   "source": [
    "model.similarity(\"excellent\", \"car\")"
   ]
  },
  {
   "cell_type": "code",
   "execution_count": 4,
   "id": "70137931-2b4b-4525-9218-62f6ec9c0560",
   "metadata": {},
   "outputs": [
    {
     "data": {
      "text/plain": [
       "0.21775037"
      ]
     },
     "execution_count": 4,
     "metadata": {},
     "output_type": "execute_result"
    }
   ],
   "source": [
    "model.similarity(\"excellent\", \"horrible\")"
   ]
  },
  {
   "cell_type": "code",
   "execution_count": 5,
   "id": "3f8ad88d-d227-405a-84ee-3fed1f655278",
   "metadata": {},
   "outputs": [
    {
     "data": {
      "text/plain": [
       "0.728809"
      ]
     },
     "execution_count": 5,
     "metadata": {},
     "output_type": "execute_result"
    }
   ],
   "source": [
    "model.similarity(\"excellent\", \"perfect\")"
   ]
  },
  {
   "cell_type": "markdown",
   "id": "0330137f-f7e2-4910-835c-7d912f517e2a",
   "metadata": {},
   "source": [
    "# Exercise 3\n",
    "\n",
    "### compute the similarity between 100 randomly selected words"
   ]
  },
  {
   "cell_type": "code",
   "execution_count": 6,
   "id": "4e8ec47d-4d7a-40f4-9a63-60f588647c97",
   "metadata": {},
   "outputs": [
    {
     "data": {
      "text/plain": [
       "400000"
      ]
     },
     "execution_count": 6,
     "metadata": {},
     "output_type": "execute_result"
    }
   ],
   "source": [
    "vocab = list(model.key_to_index.keys())\n",
    "len(vocab)"
   ]
  },
  {
   "cell_type": "code",
   "execution_count": 7,
   "id": "60683045-4420-4e37-8f3d-db3b1a45cc0a",
   "metadata": {},
   "outputs": [],
   "source": [
    "np.random.seed(2022)\n",
    "sampled_words = np.random.choice(vocab, replace=False, size=100)"
   ]
  },
  {
   "cell_type": "code",
   "execution_count": 8,
   "id": "27081d4b-4767-4692-baf0-050289854e2b",
   "metadata": {},
   "outputs": [
    {
     "data": {
      "text/plain": [
       "array(['imambara', '0.010', 's', 'six-shooter', 'fruitlessly',\n",
       "       'transmissibility', 'conventionalized', '669', 'ю', 'harrass',\n",
       "       'soutter', 'quadricep', 'ciskei', 'dietl', 'knightstown',\n",
       "       'savviest', 'diverges', 'klatovy', 'austine', 'microbrewer',\n",
       "       'natapei', 'all-instrumental', 'denture', 'causal', 'ryen',\n",
       "       'baits', 'secretary', 'carla', '34.64', 'medog', 'alimentarius',\n",
       "       'frantz', 'ubiquitously', 'primary', 'istana', 'erroneous',\n",
       "       'musonge', 'asman', 'mjc', 'cabul', 'remonstrances', 'maudlin',\n",
       "       'concerned', 'texeira', 'braincase', '3,000-page', 'isara',\n",
       "       'bytyci', 'umps', 'solidarite', 'marshman', 'island/rakiura',\n",
       "       'beanpot', 'directorships', 'hadrons', 'kiram', 'popularising',\n",
       "       'spratlys', 'vouillé', 'porphyria', 'language-based', 'severi',\n",
       "       'anglicised', 'neurath', 'kanoa', 'krantz', 'chengdu', '43-year',\n",
       "       'vanderpump', 'godfathers', 'compuware', 'fusarium', 'hore',\n",
       "       'ext4', 'one-make', 'virgenes', 'barlaston', '96-82', 'finnart',\n",
       "       'godlike', 'koroškem', 'watu', 'flameless', 'cassoulet',\n",
       "       'marianów', 'oichi', '1,423', '41,300', 'ecclesiam', 'expiratory',\n",
       "       'ducats', 'zabeel', 'solvberg', 'hajou', 'formative', 'freiberga',\n",
       "       'leuer', 'radjabov', 'kch', 'eurynome'], dtype='<U68')"
      ]
     },
     "execution_count": 8,
     "metadata": {},
     "output_type": "execute_result"
    }
   ],
   "source": [
    "sampled_words"
   ]
  },
  {
   "cell_type": "code",
   "execution_count": 9,
   "id": "fe3d5b49-1bc5-42a0-a6f0-6932fe321e6b",
   "metadata": {},
   "outputs": [
    {
     "data": {
      "text/plain": [
       "array([[ 0.24513 , -0.031745, -0.22929 , ...,  0.57041 , -0.82613 ,\n",
       "        -0.33817 ],\n",
       "       [-0.80373 ,  0.20243 ,  1.2003  , ...,  0.38792 ,  0.29852 ,\n",
       "        -0.32089 ],\n",
       "       [-0.15234 ,  0.98085 ,  1.0065  , ...,  0.037843,  0.71744 ,\n",
       "         0.32435 ],\n",
       "       ...,\n",
       "       [-1.2866  , -0.020291, -0.33626 , ...,  0.33818 , -0.25141 ,\n",
       "        -0.72781 ],\n",
       "       [-0.3627  ,  0.36668 ,  0.60522 , ..., -0.52059 ,  0.24528 ,\n",
       "         0.39155 ],\n",
       "       [ 0.27429 ,  0.06604 ,  0.29622 , ..., -0.62261 ,  0.57482 ,\n",
       "        -0.3947  ]], dtype=float32)"
      ]
     },
     "execution_count": 9,
     "metadata": {},
     "output_type": "execute_result"
    }
   ],
   "source": [
    "vectors = model.vectors_for_all(sampled_words).vectors\n",
    "vectors"
   ]
  },
  {
   "cell_type": "code",
   "execution_count": 10,
   "id": "0318a9d4-92a4-4908-b70b-a1286a399f5c",
   "metadata": {},
   "outputs": [],
   "source": [
    "pairwise_similarities = np.array(\n",
    "    [model.cosine_similarities(vectors[i], vectors)\n",
    "     for i in range(len(vectors))\n",
    "    ]\n",
    ")"
   ]
  },
  {
   "cell_type": "markdown",
   "id": "94545825-7204-4e60-95f9-c7ff38bade42",
   "metadata": {},
   "source": [
    "# Exercise 4\n",
    "\n",
    "### plot the distribution of pairwise similarities, and impose the words similarities between the pairs used in exercise 2"
   ]
  },
  {
   "cell_type": "code",
   "execution_count": 11,
   "id": "54a3faa4-847c-4760-900b-17f5bfdcf70a",
   "metadata": {},
   "outputs": [
    {
     "data": {
      "image/png": "[encoded data removed]",
      "text/plain": [
       "<Figure size 1296x432 with 1 Axes>"
      ]
     },
     "metadata": {},
     "output_type": "display_data"
    }
   ],
   "source": [
    "plt.figure(figsize=(18, 6))\n",
    "sns.histplot(pairwise_similarities.reshape(-1))\n",
    "plt.axvline(model.similarity(\"excellent\", \"car\"), color=\"darkblue\", label=\"car\", lw=3)\n",
    "plt.axvline(model.similarity(\"excellent\", \"horrible\"), color=\"darkred\", label=\"horrible\", lw=3)\n",
    "plt.axvline(model.similarity(\"excellent\", \"perfect\"), color=\"darkgreen\", label=\"perfect\", lw=3)\n",
    "plt.axvline(model.similarity(\"excellent\", \"excellent\"), color=\"black\", label=\"excellent\", lw=3)\n",
    "plt.legend(fontsize=\"xx-large\");"
   ]
  },
  {
   "cell_type": "markdown",
   "id": "c470540f-2d79-4bc9-8010-8244313c0e41",
   "metadata": {},
   "source": [
    "# Extra exercise\n",
    "\n",
    "### infer a statistical rule to identify true high similarities (caution will not be applicable on other datasets)\n",
    "### build a small machine learning model to differentiate between positive and negative words"
   ]
  },
  {
   "cell_type": "code",
   "execution_count": null,
   "id": "510a6068-7ab1-4592-8149-7135bcdc4d44",
   "metadata": {},
   "outputs": [],
   "source": []
  }
 ],
 "metadata": {
  "kernelspec": {
   "display_name": "Python 3 (ipykernel)",
   "language": "python",
   "name": "python3"
  },
  "language_info": {
   "codemirror_mode": {
    "name": "ipython",
    "version": 3
   },
   "file_extension": ".py",
   "mimetype": "text/x-python",
   "name": "python",
   "nbconvert_exporter": "python",
   "pygments_lexer": "ipython3",
   "version": "3.8.12"
  }
 },
 "nbformat": 4,
 "nbformat_minor": 5
}
