{
 "cells": [
  {
   "cell_type": "markdown",
   "id": "7eabb9a2-7ee4-4433-8d00-04162776d783",
   "metadata": {},
   "source": [
    "# Prerequisite - Decision Tree Algorithm\n",
    "\n",
    "#### In order to complete the exercises below, a basic understanding of decision tree algorithm is required. The figure blow provides a simple example of what decision trees are.\n",
    "\n",
    "\n",
    "<img src=\"src/simple_decision_tree.png\" width=\"350\" style=\"margin-left:auto; margin-right:auto\"/>\n",
    "\n",
    "\n",
    "#### In this section, we will be using many decision trees at once (a.k.a RandomForest) to help us extract information from large datasets."
   ]
  },
  {
   "cell_type": "code",
   "execution_count": 1,
   "id": "f2f8b011-d138-46b4-9862-04f75d17394e",
   "metadata": {},
   "outputs": [],
   "source": [
    "import numpy as np\n",
    "import pandas as pd\n",
    "\n",
    "from sklearn.datasets import make_regression\n",
    "from sklearn.ensemble import RandomForestRegressor, RandomForestClassifier"
   ]
  },
  {
   "cell_type": "markdown",
   "id": "8a41c52e-e388-4943-a0f6-89da3935bf9d",
   "metadata": {},
   "source": [
    "# Data Description\n",
    "\n",
    "#### Recall the line equation in middle school\n",
    "\n",
    "# $$ y = m x + c $$\n",
    "\n",
    "#### and its matrix counterpart\n",
    "\n",
    "# $$ Y = \\beta X + C $$\n",
    "\n",
    "#### we are going to generate $X$ and $Y$ using secret $\\beta$ values. However, some values of $\\beta$ are set to zero. That means not all the variables of $X$ are informative (have no effect on $Y$). In this dataset, the constant part $c$ will not be used (set to zero)."
   ]
  },
  {
   "cell_type": "code",
   "execution_count": 2,
   "id": "afe552ac-d0bd-42bb-8924-b00dfd91dada",
   "metadata": {},
   "outputs": [
    {
     "name": "stdout",
     "output_type": "stream",
     "text": [
      "X shape: (317, 256)\n",
      "beta shape: (256,)\n",
      "y shape: (317,)\n",
      "n_informative: 1\n",
      "informative variables are at columns: [41]\n"
     ]
    }
   ],
   "source": [
    "synthetic_X, synthetic_y, synthetic_beta = make_regression(\n",
    "    n_samples=317,\n",
    "    n_features=256,\n",
    "    n_informative=1,\n",
    "    random_state=2022,\n",
    "    coef=True,\n",
    ")\n",
    "\n",
    "print(f\"X shape: {synthetic_X.shape}\",\n",
    "      f\"beta shape: {synthetic_beta.shape}\",\n",
    "      f\"y shape: {synthetic_y.shape}\",\n",
    "      f\"n_informative: {(synthetic_beta != 0).sum()}\",\n",
    "      f\"informative variables are at columns: {[i for i, b in enumerate(synthetic_beta) if b != 0]}\",\n",
    "      sep=\"\\n\",\n",
    ")"
   ]
  },
  {
   "cell_type": "markdown",
   "id": "abcbeb19-f732-40ac-b9f2-5a4581077cd3",
   "metadata": {},
   "source": [
    "# Sanity check of the generated data\n",
    "#### we need to verify that $X \\beta = y$"
   ]
  },
  {
   "cell_type": "code",
   "execution_count": 3,
   "id": "d69f04b8-17ea-411d-9c37-ac14a602473b",
   "metadata": {},
   "outputs": [
    {
     "data": {
      "text/plain": [
       "True"
      ]
     },
     "execution_count": 3,
     "metadata": {},
     "output_type": "execute_result"
    }
   ],
   "source": [
    "np.allclose(np.dot(synthetic_X, synthetic_beta), synthetic_y)"
   ]
  },
  {
   "cell_type": "markdown",
   "id": "f3a01385-d101-4683-b514-19dfe6a92560",
   "metadata": {},
   "source": [
    "# Exercise 1\n",
    "\n",
    "### identify the informative variables in X"
   ]
  },
  {
   "cell_type": "code",
   "execution_count": 4,
   "id": "12f7ed2e-eeb2-4ee6-b6aa-7bf2bccb7140",
   "metadata": {},
   "outputs": [
    {
     "data": {
      "text/plain": [
       "array([41])"
      ]
     },
     "execution_count": 4,
     "metadata": {},
     "output_type": "execute_result"
    }
   ],
   "source": [
    "model = RandomForestRegressor(n_estimators=100, max_depth=1, random_state=2022)\n",
    "model.fit(synthetic_X, synthetic_y)\n",
    "informative_variable_index = np.flatnonzero(model.feature_importances_)\n",
    "informative_variable_index"
   ]
  },
  {
   "cell_type": "code",
   "execution_count": 5,
   "id": "a7f142f8-e1e4-448b-9785-31619f284c04",
   "metadata": {},
   "outputs": [
    {
     "data": {
      "text/plain": [
       "True"
      ]
     },
     "execution_count": 5,
     "metadata": {},
     "output_type": "execute_result"
    }
   ],
   "source": [
    "synthetic_m = synthetic_beta[informative_variable_index]\n",
    "synthetic_x = synthetic_X[:, informative_variable_index]\n",
    "np.allclose(np.dot(synthetic_x, synthetic_m), synthetic_y)"
   ]
  },
  {
   "cell_type": "markdown",
   "id": "4c03abe3-718e-48ba-a6cc-7b9b546c0aea",
   "metadata": {},
   "source": [
    "#### Disclaimer: the method above needs modifications to work with multiple informative variables and requires cross-validation iterations to ensure the identified variables are in fact informative. \n",
    "\n",
    "# Data Description\n",
    "\n",
    "#### This dataset is composed of a range of biomedical voice measurements from 31 people, 23 with Parkinson's disease (PD). Each column in the table is a particular voice measure, and each row corresponds one of 195 voice recording from these individuals (\"name\" column). The main aim of the data is to discriminate healthy people from those with PD, according to \"status\" column which is set to 0 for healthy and 1 for PD.\n",
    "\n",
    "source: https://archive.ics.uci.edu/ml/datasets/parkinsons\n",
    "\n",
    "# Exercise 2\n",
    "\n",
    "### Identify the most informative features in this dataset"
   ]
  },
  {
   "cell_type": "code",
   "execution_count": 6,
   "id": "9b6cc24f-7f1c-4f9e-ad12-89e1f10d20a2",
   "metadata": {},
   "outputs": [
    {
     "data": {
      "text/html": [
       "<div>\n",
       "<style scoped>\n",
       "    .dataframe tbody tr th:only-of-type {\n",
       "        vertical-align: middle;\n",
       "    }\n",
       "\n",
       "    .dataframe tbody tr th {\n",
       "        vertical-align: top;\n",
       "    }\n",
       "\n",
       "    .dataframe thead th {\n",
       "        text-align: right;\n",
       "    }\n",
       "</style>\n",
       "<table border=\"1\" class=\"dataframe\">\n",
       "  <thead>\n",
       "    <tr style=\"text-align: right;\">\n",
       "      <th></th>\n",
       "      <th>id</th>\n",
       "      <th>gender</th>\n",
       "      <th>PPE</th>\n",
       "      <th>DFA</th>\n",
       "      <th>RPDE</th>\n",
       "      <th>numPulses</th>\n",
       "      <th>numPeriodsPulses</th>\n",
       "      <th>meanPeriodPulses</th>\n",
       "      <th>stdDevPeriodPulses</th>\n",
       "      <th>locPctJitter</th>\n",
       "      <th>...</th>\n",
       "      <th>tqwt_kurtosisValue_dec_28</th>\n",
       "      <th>tqwt_kurtosisValue_dec_29</th>\n",
       "      <th>tqwt_kurtosisValue_dec_30</th>\n",
       "      <th>tqwt_kurtosisValue_dec_31</th>\n",
       "      <th>tqwt_kurtosisValue_dec_32</th>\n",
       "      <th>tqwt_kurtosisValue_dec_33</th>\n",
       "      <th>tqwt_kurtosisValue_dec_34</th>\n",
       "      <th>tqwt_kurtosisValue_dec_35</th>\n",
       "      <th>tqwt_kurtosisValue_dec_36</th>\n",
       "      <th>class</th>\n",
       "    </tr>\n",
       "  </thead>\n",
       "  <tbody>\n",
       "    <tr>\n",
       "      <th>0</th>\n",
       "      <td>0</td>\n",
       "      <td>1</td>\n",
       "      <td>0.85247</td>\n",
       "      <td>0.71826</td>\n",
       "      <td>0.57227</td>\n",
       "      <td>240</td>\n",
       "      <td>239</td>\n",
       "      <td>0.008064</td>\n",
       "      <td>0.000087</td>\n",
       "      <td>0.00218</td>\n",
       "      <td>...</td>\n",
       "      <td>1.5620</td>\n",
       "      <td>2.6445</td>\n",
       "      <td>3.8686</td>\n",
       "      <td>4.2105</td>\n",
       "      <td>5.1221</td>\n",
       "      <td>4.4625</td>\n",
       "      <td>2.6202</td>\n",
       "      <td>3.0004</td>\n",
       "      <td>18.9405</td>\n",
       "      <td>1</td>\n",
       "    </tr>\n",
       "    <tr>\n",
       "      <th>1</th>\n",
       "      <td>0</td>\n",
       "      <td>1</td>\n",
       "      <td>0.76686</td>\n",
       "      <td>0.69481</td>\n",
       "      <td>0.53966</td>\n",
       "      <td>234</td>\n",
       "      <td>233</td>\n",
       "      <td>0.008258</td>\n",
       "      <td>0.000073</td>\n",
       "      <td>0.00195</td>\n",
       "      <td>...</td>\n",
       "      <td>1.5589</td>\n",
       "      <td>3.6107</td>\n",
       "      <td>23.5155</td>\n",
       "      <td>14.1962</td>\n",
       "      <td>11.0261</td>\n",
       "      <td>9.5082</td>\n",
       "      <td>6.5245</td>\n",
       "      <td>6.3431</td>\n",
       "      <td>45.1780</td>\n",
       "      <td>1</td>\n",
       "    </tr>\n",
       "    <tr>\n",
       "      <th>2</th>\n",
       "      <td>0</td>\n",
       "      <td>1</td>\n",
       "      <td>0.85083</td>\n",
       "      <td>0.67604</td>\n",
       "      <td>0.58982</td>\n",
       "      <td>232</td>\n",
       "      <td>231</td>\n",
       "      <td>0.008340</td>\n",
       "      <td>0.000060</td>\n",
       "      <td>0.00176</td>\n",
       "      <td>...</td>\n",
       "      <td>1.5643</td>\n",
       "      <td>2.3308</td>\n",
       "      <td>9.4959</td>\n",
       "      <td>10.7458</td>\n",
       "      <td>11.0177</td>\n",
       "      <td>4.8066</td>\n",
       "      <td>2.9199</td>\n",
       "      <td>3.1495</td>\n",
       "      <td>4.7666</td>\n",
       "      <td>1</td>\n",
       "    </tr>\n",
       "    <tr>\n",
       "      <th>3</th>\n",
       "      <td>1</td>\n",
       "      <td>0</td>\n",
       "      <td>0.41121</td>\n",
       "      <td>0.79672</td>\n",
       "      <td>0.59257</td>\n",
       "      <td>178</td>\n",
       "      <td>177</td>\n",
       "      <td>0.010858</td>\n",
       "      <td>0.000183</td>\n",
       "      <td>0.00419</td>\n",
       "      <td>...</td>\n",
       "      <td>3.7805</td>\n",
       "      <td>3.5664</td>\n",
       "      <td>5.2558</td>\n",
       "      <td>14.0403</td>\n",
       "      <td>4.2235</td>\n",
       "      <td>4.6857</td>\n",
       "      <td>4.8460</td>\n",
       "      <td>6.2650</td>\n",
       "      <td>4.0603</td>\n",
       "      <td>1</td>\n",
       "    </tr>\n",
       "    <tr>\n",
       "      <th>4</th>\n",
       "      <td>1</td>\n",
       "      <td>0</td>\n",
       "      <td>0.32790</td>\n",
       "      <td>0.79782</td>\n",
       "      <td>0.53028</td>\n",
       "      <td>236</td>\n",
       "      <td>235</td>\n",
       "      <td>0.008162</td>\n",
       "      <td>0.002669</td>\n",
       "      <td>0.00535</td>\n",
       "      <td>...</td>\n",
       "      <td>6.1727</td>\n",
       "      <td>5.8416</td>\n",
       "      <td>6.0805</td>\n",
       "      <td>5.7621</td>\n",
       "      <td>7.7817</td>\n",
       "      <td>11.6891</td>\n",
       "      <td>8.2103</td>\n",
       "      <td>5.0559</td>\n",
       "      <td>6.1164</td>\n",
       "      <td>1</td>\n",
       "    </tr>\n",
       "  </tbody>\n",
       "</table>\n",
       "<p>5 rows × 755 columns</p>\n",
       "</div>"
      ],
      "text/plain": [
       "   id  gender      PPE      DFA     RPDE  numPulses  numPeriodsPulses  \\\n",
       "0   0       1  0.85247  0.71826  0.57227        240               239   \n",
       "1   0       1  0.76686  0.69481  0.53966        234               233   \n",
       "2   0       1  0.85083  0.67604  0.58982        232               231   \n",
       "3   1       0  0.41121  0.79672  0.59257        178               177   \n",
       "4   1       0  0.32790  0.79782  0.53028        236               235   \n",
       "\n",
       "   meanPeriodPulses  stdDevPeriodPulses  locPctJitter  ...  \\\n",
       "0          0.008064            0.000087       0.00218  ...   \n",
       "1          0.008258            0.000073       0.00195  ...   \n",
       "2          0.008340            0.000060       0.00176  ...   \n",
       "3          0.010858            0.000183       0.00419  ...   \n",
       "4          0.008162            0.002669       0.00535  ...   \n",
       "\n",
       "   tqwt_kurtosisValue_dec_28  tqwt_kurtosisValue_dec_29  \\\n",
       "0                     1.5620                     2.6445   \n",
       "1                     1.5589                     3.6107   \n",
       "2                     1.5643                     2.3308   \n",
       "3                     3.7805                     3.5664   \n",
       "4                     6.1727                     5.8416   \n",
       "\n",
       "   tqwt_kurtosisValue_dec_30  tqwt_kurtosisValue_dec_31  \\\n",
       "0                     3.8686                     4.2105   \n",
       "1                    23.5155                    14.1962   \n",
       "2                     9.4959                    10.7458   \n",
       "3                     5.2558                    14.0403   \n",
       "4                     6.0805                     5.7621   \n",
       "\n",
       "   tqwt_kurtosisValue_dec_32  tqwt_kurtosisValue_dec_33  \\\n",
       "0                     5.1221                     4.4625   \n",
       "1                    11.0261                     9.5082   \n",
       "2                    11.0177                     4.8066   \n",
       "3                     4.2235                     4.6857   \n",
       "4                     7.7817                    11.6891   \n",
       "\n",
       "   tqwt_kurtosisValue_dec_34  tqwt_kurtosisValue_dec_35  \\\n",
       "0                     2.6202                     3.0004   \n",
       "1                     6.5245                     6.3431   \n",
       "2                     2.9199                     3.1495   \n",
       "3                     4.8460                     6.2650   \n",
       "4                     8.2103                     5.0559   \n",
       "\n",
       "   tqwt_kurtosisValue_dec_36  class  \n",
       "0                    18.9405      1  \n",
       "1                    45.1780      1  \n",
       "2                     4.7666      1  \n",
       "3                     4.0603      1  \n",
       "4                     6.1164      1  \n",
       "\n",
       "[5 rows x 755 columns]"
      ]
     },
     "execution_count": 6,
     "metadata": {},
     "output_type": "execute_result"
    }
   ],
   "source": [
    "pd_dataset = pd.read_csv(\"../data/pd_speech_features.csv\", header=1)\n",
    "pd_dataset.head()"
   ]
  },
  {
   "cell_type": "code",
   "execution_count": 7,
   "id": "66798367-a320-48ea-9b04-05d3a5dad487",
   "metadata": {},
   "outputs": [],
   "source": [
    "pd_X = pd_dataset.drop(columns=[\"id\", \"class\"])\n",
    "pd_y = pd_dataset[\"class\"]"
   ]
  },
  {
   "cell_type": "code",
   "execution_count": 8,
   "id": "e14d052b-d6aa-4c32-8ec5-fa2a56a25196",
   "metadata": {},
   "outputs": [
    {
     "data": {
      "text/plain": [
       "RandomForestClassifier(criterion='entropy', max_depth=1, random_state=2022)"
      ]
     },
     "execution_count": 8,
     "metadata": {},
     "output_type": "execute_result"
    }
   ],
   "source": [
    "model = RandomForestClassifier(criterion=\"entropy\", max_depth=1, random_state=2022)\n",
    "model.fit(pd_X, pd_y)"
   ]
  },
  {
   "cell_type": "code",
   "execution_count": 9,
   "id": "a4614ea5-2e05-4706-801d-fe046c83631c",
   "metadata": {},
   "outputs": [
    {
     "data": {
      "text/html": [
       "<div>\n",
       "<style scoped>\n",
       "    .dataframe tbody tr th:only-of-type {\n",
       "        vertical-align: middle;\n",
       "    }\n",
       "\n",
       "    .dataframe tbody tr th {\n",
       "        vertical-align: top;\n",
       "    }\n",
       "\n",
       "    .dataframe thead th {\n",
       "        text-align: right;\n",
       "    }\n",
       "</style>\n",
       "<table border=\"1\" class=\"dataframe\">\n",
       "  <thead>\n",
       "    <tr style=\"text-align: right;\">\n",
       "      <th></th>\n",
       "      <th>feature</th>\n",
       "      <th>score</th>\n",
       "    </tr>\n",
       "  </thead>\n",
       "  <tbody>\n",
       "    <tr>\n",
       "      <th>440</th>\n",
       "      <td>tqwt_TKEO_mean_dec_12</td>\n",
       "      <td>0.06</td>\n",
       "    </tr>\n",
       "    <tr>\n",
       "      <th>125</th>\n",
       "      <td>std_delta_delta_log_energy</td>\n",
       "      <td>0.06</td>\n",
       "    </tr>\n",
       "    <tr>\n",
       "      <th>441</th>\n",
       "      <td>tqwt_TKEO_mean_dec_13</td>\n",
       "      <td>0.05</td>\n",
       "    </tr>\n",
       "    <tr>\n",
       "      <th>403</th>\n",
       "      <td>tqwt_entropy_log_dec_11</td>\n",
       "      <td>0.05</td>\n",
       "    </tr>\n",
       "    <tr>\n",
       "      <th>111</th>\n",
       "      <td>std_delta_log_energy</td>\n",
       "      <td>0.04</td>\n",
       "    </tr>\n",
       "    <tr>\n",
       "      <th>132</th>\n",
       "      <td>std_6th_delta_delta</td>\n",
       "      <td>0.04</td>\n",
       "    </tr>\n",
       "    <tr>\n",
       "      <th>194</th>\n",
       "      <td>app_entropy_shannon_5_coef</td>\n",
       "      <td>0.03</td>\n",
       "    </tr>\n",
       "    <tr>\n",
       "      <th>121</th>\n",
       "      <td>std_9th_delta</td>\n",
       "      <td>0.03</td>\n",
       "    </tr>\n",
       "    <tr>\n",
       "      <th>368</th>\n",
       "      <td>tqwt_entropy_shannon_dec_12</td>\n",
       "      <td>0.03</td>\n",
       "    </tr>\n",
       "    <tr>\n",
       "      <th>347</th>\n",
       "      <td>tqwt_energy_dec_27</td>\n",
       "      <td>0.03</td>\n",
       "    </tr>\n",
       "    <tr>\n",
       "      <th>584</th>\n",
       "      <td>tqwt_stdValue_dec_12</td>\n",
       "      <td>0.03</td>\n",
       "    </tr>\n",
       "    <tr>\n",
       "      <th>583</th>\n",
       "      <td>tqwt_stdValue_dec_11</td>\n",
       "      <td>0.02</td>\n",
       "    </tr>\n",
       "    <tr>\n",
       "      <th>404</th>\n",
       "      <td>tqwt_entropy_log_dec_12</td>\n",
       "      <td>0.02</td>\n",
       "    </tr>\n",
       "  </tbody>\n",
       "</table>\n",
       "</div>"
      ],
      "text/plain": [
       "                         feature  score\n",
       "440        tqwt_TKEO_mean_dec_12   0.06\n",
       "125   std_delta_delta_log_energy   0.06\n",
       "441        tqwt_TKEO_mean_dec_13   0.05\n",
       "403      tqwt_entropy_log_dec_11   0.05\n",
       "111         std_delta_log_energy   0.04\n",
       "132          std_6th_delta_delta   0.04\n",
       "194   app_entropy_shannon_5_coef   0.03\n",
       "121                std_9th_delta   0.03\n",
       "368  tqwt_entropy_shannon_dec_12   0.03\n",
       "347           tqwt_energy_dec_27   0.03\n",
       "584         tqwt_stdValue_dec_12   0.03\n",
       "583         tqwt_stdValue_dec_11   0.02\n",
       "404      tqwt_entropy_log_dec_12   0.02"
      ]
     },
     "execution_count": 9,
     "metadata": {},
     "output_type": "execute_result"
    }
   ],
   "source": [
    "(pd.DataFrame(\n",
    "    {\n",
    "        \"feature\": pd_X.columns, \n",
    "        \"score\": model.feature_importances_\n",
    "    })\n",
    " .sort_values(\"score\", ascending=False)\n",
    " .head(13)\n",
    ")"
   ]
  },
  {
   "cell_type": "markdown",
   "id": "97a16c62-dc40-4521-b821-eab20cc89271",
   "metadata": {},
   "source": [
    "# Exercise 3\n",
    "\n",
    "### which features help us identifying the gender of the subject?"
   ]
  },
  {
   "cell_type": "code",
   "execution_count": 10,
   "id": "8b8c6f45-5dfb-48dc-80e0-e0e3c86bb3cd",
   "metadata": {},
   "outputs": [],
   "source": [
    "gender_X = pd_dataset.drop(columns=[\"id\", \"gender\", \"class\"])\n",
    "gender_y = pd_dataset[\"gender\"]"
   ]
  },
  {
   "cell_type": "code",
   "execution_count": 11,
   "id": "af48da2c-2be3-4f13-bbad-84e2ce11037c",
   "metadata": {},
   "outputs": [
    {
     "data": {
      "text/plain": [
       "RandomForestClassifier(criterion='entropy', max_depth=1, random_state=2022)"
      ]
     },
     "execution_count": 11,
     "metadata": {},
     "output_type": "execute_result"
    }
   ],
   "source": [
    "model = RandomForestClassifier(criterion=\"entropy\", max_depth=1, random_state=2022)\n",
    "model.fit(gender_X, gender_y)"
   ]
  },
  {
   "cell_type": "code",
   "execution_count": 12,
   "id": "ad5b287e-be46-4888-b2ae-3421eb992696",
   "metadata": {},
   "outputs": [
    {
     "data": {
      "text/html": [
       "<div>\n",
       "<style scoped>\n",
       "    .dataframe tbody tr th:only-of-type {\n",
       "        vertical-align: middle;\n",
       "    }\n",
       "\n",
       "    .dataframe tbody tr th {\n",
       "        vertical-align: top;\n",
       "    }\n",
       "\n",
       "    .dataframe thead th {\n",
       "        text-align: right;\n",
       "    }\n",
       "</style>\n",
       "<table border=\"1\" class=\"dataframe\">\n",
       "  <thead>\n",
       "    <tr style=\"text-align: right;\">\n",
       "      <th></th>\n",
       "      <th>feature</th>\n",
       "      <th>score</th>\n",
       "    </tr>\n",
       "  </thead>\n",
       "  <tbody>\n",
       "    <tr>\n",
       "      <th>285</th>\n",
       "      <td>app_LT_entropy_shannon_6_coef</td>\n",
       "      <td>0.05</td>\n",
       "    </tr>\n",
       "    <tr>\n",
       "      <th>190</th>\n",
       "      <td>app_entropy_shannon_2_coef</td>\n",
       "      <td>0.05</td>\n",
       "    </tr>\n",
       "    <tr>\n",
       "      <th>222</th>\n",
       "      <td>app_TKEO_std_4_coef</td>\n",
       "      <td>0.05</td>\n",
       "    </tr>\n",
       "    <tr>\n",
       "      <th>205</th>\n",
       "      <td>app_entropy_log_7_coef</td>\n",
       "      <td>0.04</td>\n",
       "    </tr>\n",
       "    <tr>\n",
       "      <th>203</th>\n",
       "      <td>app_entropy_log_5_coef</td>\n",
       "      <td>0.04</td>\n",
       "    </tr>\n",
       "    <tr>\n",
       "      <th>195</th>\n",
       "      <td>app_entropy_shannon_7_coef</td>\n",
       "      <td>0.04</td>\n",
       "    </tr>\n",
       "    <tr>\n",
       "      <th>295</th>\n",
       "      <td>app_LT_entropy_log_6_coef</td>\n",
       "      <td>0.03</td>\n",
       "    </tr>\n",
       "    <tr>\n",
       "      <th>286</th>\n",
       "      <td>app_LT_entropy_shannon_7_coef</td>\n",
       "      <td>0.03</td>\n",
       "    </tr>\n",
       "    <tr>\n",
       "      <th>223</th>\n",
       "      <td>app_TKEO_std_5_coef</td>\n",
       "      <td>0.03</td>\n",
       "    </tr>\n",
       "    <tr>\n",
       "      <th>189</th>\n",
       "      <td>app_entropy_shannon_1_coef</td>\n",
       "      <td>0.03</td>\n",
       "    </tr>\n",
       "    <tr>\n",
       "      <th>209</th>\n",
       "      <td>app_det_TKEO_mean_1_coef</td>\n",
       "      <td>0.03</td>\n",
       "    </tr>\n",
       "    <tr>\n",
       "      <th>192</th>\n",
       "      <td>app_entropy_shannon_4_coef</td>\n",
       "      <td>0.02</td>\n",
       "    </tr>\n",
       "    <tr>\n",
       "      <th>299</th>\n",
       "      <td>app_LT_entropy_log_10_coef</td>\n",
       "      <td>0.02</td>\n",
       "    </tr>\n",
       "  </tbody>\n",
       "</table>\n",
       "</div>"
      ],
      "text/plain": [
       "                           feature  score\n",
       "285  app_LT_entropy_shannon_6_coef   0.05\n",
       "190     app_entropy_shannon_2_coef   0.05\n",
       "222            app_TKEO_std_4_coef   0.05\n",
       "205         app_entropy_log_7_coef   0.04\n",
       "203         app_entropy_log_5_coef   0.04\n",
       "195     app_entropy_shannon_7_coef   0.04\n",
       "295      app_LT_entropy_log_6_coef   0.03\n",
       "286  app_LT_entropy_shannon_7_coef   0.03\n",
       "223            app_TKEO_std_5_coef   0.03\n",
       "189     app_entropy_shannon_1_coef   0.03\n",
       "209       app_det_TKEO_mean_1_coef   0.03\n",
       "192     app_entropy_shannon_4_coef   0.02\n",
       "299     app_LT_entropy_log_10_coef   0.02"
      ]
     },
     "execution_count": 12,
     "metadata": {},
     "output_type": "execute_result"
    }
   ],
   "source": [
    "best_features = (pd.DataFrame(\n",
    "    {\n",
    "        \"feature\":gender_X.columns, \n",
    "        \"score\":model.feature_importances_\n",
    "    })\n",
    " .sort_values(\"score\", ascending=False)\n",
    " .head(13)\n",
    ")\n",
    "best_features"
   ]
  },
  {
   "cell_type": "code",
   "execution_count": 13,
   "id": "baa21b34-e3cd-437e-8f3f-9a3413139c6f",
   "metadata": {},
   "outputs": [
    {
     "data": {
      "text/plain": [
       "'app_LT_entropy_shannon_6_coef'"
      ]
     },
     "execution_count": 13,
     "metadata": {},
     "output_type": "execute_result"
    }
   ],
   "source": [
    "best_feature = best_features.iloc[0, 0]\n",
    "best_feature"
   ]
  },
  {
   "cell_type": "markdown",
   "id": "5a4a818b-c5e2-4d05-95d2-e1ceb48791b2",
   "metadata": {},
   "source": [
    "# Possible extra exercises:\n",
    "\n",
    "\n",
    "#### 1. Implement an algorithm to identify multiple informative variables for regression.\n",
    "#### 2. For regression, instead of random forest, use other regression algorithms (LASSO).\n",
    "#### 3. Use cross-validation to make the findings more robust."
   ]
  },
  {
   "cell_type": "code",
   "execution_count": null,
   "id": "ed99b54c-0686-4e23-b83b-08dea9150ff1",
   "metadata": {},
   "outputs": [],
   "source": []
  }
 ],
 "metadata": {
  "kernelspec": {
   "display_name": "MoF",
   "language": "python",
   "name": "mof"
  },
  "language_info": {
   "codemirror_mode": {
    "name": "ipython",
    "version": 3
   },
   "file_extension": ".py",
   "mimetype": "text/x-python",
   "name": "python",
   "nbconvert_exporter": "python",
   "pygments_lexer": "ipython3",
   "version": "3.7.3"
  }
 },
 "nbformat": 4,
 "nbformat_minor": 5
}
